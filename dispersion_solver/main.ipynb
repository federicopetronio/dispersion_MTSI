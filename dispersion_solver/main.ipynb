{
 "cells": [
  {
   "cell_type": "code",
   "execution_count": 3,
   "metadata": {},
   "outputs": [],
   "source": [
    "from astropy import units as u\n",
    "from plasmapy.formulary.parameters import plasma_frequency, Debye_length\n",
    "\n",
    "import directsolver\n",
    "\n",
    "from functools import partial\n",
    "from importlib import reload\n",
    "\n",
    "reload(directsolver)\n",
    "import util\n",
    "reload(util)\n",
    "from util.MTSI  import eps_MTSI\n",
    "from util.iaw import eps_IAW, analytic_IAW, analytic_IAW_simple,first_guess\n",
    "from directsolver import solvekys\n",
    "from scipy import optimize\n",
    "\n",
    "import matplotlib.pyplot as plt\n",
    "import numpy as np\n",
    "from astropy.constants import m_e, m_p\n",
    "me = m_e.value\n",
    "mi = 131*m_p.value"
   ]
  },
  {
   "cell_type": "code",
   "execution_count": 4,
   "metadata": {},
   "outputs": [],
   "source": [
    "Te = 10*u.eV\n",
    "plasmaDensity=1e16 *u.m**(-3)"
   ]
  },
  {
   "cell_type": "code",
   "execution_count": 5,
   "metadata": {},
   "outputs": [],
   "source": [
    "from util.parameters import PlasmaParameters"
   ]
  },
  {
   "cell_type": "code",
   "execution_count": 6,
   "metadata": {},
   "outputs": [],
   "source": [
    "pp = PlasmaParameters(plasmaDensity=plasmaDensity, electronTemperature=Te)"
   ]
  },
  {
   "cell_type": "code",
   "execution_count": 7,
   "metadata": {},
   "outputs": [
    {
     "data": {
      "text/latex": [
       "$0.00023508189 \\; \\mathrm{m}$"
      ],
      "text/plain": [
       "<Quantity 0.00023508 m>"
      ]
     },
     "execution_count": 7,
     "metadata": {},
     "output_type": "execute_result"
    }
   ],
   "source": [
    "pp.Debye_length"
   ]
  },
  {
   "cell_type": "code",
   "execution_count": 8,
   "metadata": {},
   "outputs": [
    {
     "data": {
      "text/latex": [
       "$11531654 \\; \\mathrm{\\frac{rad}{s}}$"
      ],
      "text/plain": [
       "<Quantity 11531653.95287732 rad / s>"
      ]
     },
     "execution_count": 8,
     "metadata": {},
     "output_type": "execute_result"
    }
   ],
   "source": [
    "pp.ionPlasmaFrequency"
   ]
  },
  {
   "cell_type": "code",
   "execution_count": 9,
   "metadata": {},
   "outputs": [
    {
     "data": {
      "text/latex": [
       "$1835319.7 \\; \\mathrm{\\frac{1}{s}}$"
      ],
      "text/plain": [
       "<Quantity 1835319.72862562 1 / s>"
      ]
     },
     "execution_count": 9,
     "metadata": {},
     "output_type": "execute_result"
    }
   ],
   "source": [
    "pp.ionPlasmaFrequency/(2*np.pi*u.rad)"
   ]
  },
  {
   "cell_type": "code",
   "execution_count": 10,
   "metadata": {},
   "outputs": [
    {
     "data": {
      "text/latex": [
       "$2710.883 \\; \\mathrm{\\frac{m}{s}}$"
      ],
      "text/plain": [
       "<Quantity 2710.88297111 m / s>"
      ]
     },
     "execution_count": 10,
     "metadata": {},
     "output_type": "execute_result"
    }
   ],
   "source": [
    "pp.BohmSpeed"
   ]
  },
  {
   "cell_type": "code",
   "execution_count": 11,
   "metadata": {},
   "outputs": [
    {
     "data": {
      "text/latex": [
       "$50000000 \\; \\mathrm{\\frac{m}{s}}$"
      ],
      "text/plain": [
       "<Quantity 50000000. m / s>"
      ]
     },
     "execution_count": 11,
     "metadata": {},
     "output_type": "execute_result"
    }
   ],
   "source": [
    "pp.driftSpeed"
   ]
  },
  {
   "cell_type": "code",
   "execution_count": null,
   "metadata": {},
   "outputs": [],
   "source": []
  },
  {
   "cell_type": "markdown",
   "metadata": {},
   "source": [
    "# Compute"
   ]
  },
  {
   "cell_type": "code",
   "execution_count": 12,
   "metadata": {},
   "outputs": [],
   "source": [
    "kx = 0.0\n",
    "kz = 0.0\n",
    "prt=PlasmaParameters(plasmaDensity=1e17/u.m**3,\n",
    "                     electronTemperature=20*u.eV,\n",
    "                     magneticField=0.02*u.T,\n",
    "                     electricField=4e4*u.V/u.m,\n",
    "                     ionTemperature=0.01*u.eV)\n",
    "\n",
    "\n",
    "\n",
    "plasmaEps = partial(eps_IAW, prt=prt)\n",
    "\n",
    "wrfunct = lambda k: analytic_IAW(k, ti=prt.ionTemperature/ prt.electronTemperature)\n",
    "\n",
    "kysref, xsref = solvekys(plasmaEps, kx=kx, kz=kz, kymin=0.1, kymax=6,\n",
    "                         parall=False, wrfunct=wrfunct, Nkys=30)\n"
   ]
  },
  {
   "cell_type": "code",
   "execution_count": 13,
   "metadata": {},
   "outputs": [
    {
     "data": {
      "image/png": "[encoded data removed]",
      "text/plain": [
       "<Figure size 288x216 with 1 Axes>"
      ]
     },
     "metadata": {
      "needs_background": "light"
     },
     "output_type": "display_data"
    }
   ],
   "source": [
    "\n",
    "# plot\n",
    "fig = plt.figure(figsize=(4,3))\n",
    "plt.plot(kysref, xsref[:,0], \"orange\", label=\"$\\omega_r$ solver\")\n",
    "plt.plot(kysref, xsref[:,1], \"red\", label=\"$\\gamma$   solver\")\n",
    "\n",
    "plt.plot(kysref, prt.driftSpeed/prt.BohmSpeed* np.sqrt(me/mi)*np.sqrt(np.pi/8)*kysref/(1 + kysref**2)**(3/2), \"y--\", label=\"$\\gamma$   Analytic\")\n",
    "plt.plot(kysref, analytic_IAW(kysref, ti=prt.ionTemperature/ prt.electronTemperature), \"b--\", label=\"$\\omega_r$ Analytic\")\n",
    "\n",
    "\n",
    "plt.legend()\n",
    "plt.xlabel(\"Azimuthal wave number $k_{\\\\theta} \\\\lambda_{De}$\")\n",
    "plt.ylabel(\"Pulsations  $\\\\gamma/\\\\omega_{pi}$ and $ \\\\omega_r/\\\\omega_{pi} $\")\n",
    "plt.xlim(left=0)\n",
    "plt.ylim(bottom=0)\n",
    "\n",
    "plt.tight_layout()"
   ]
  },
  {
   "cell_type": "markdown",
   "metadata": {},
   "source": [
    "### Conlcusion\n",
    "\n",
    "The solver reproduce almost the analytique dispertion relation for the Ion Accoustic wave.\n",
    "The origine of the discrepency is yet to me found"
   ]
  },
  {
   "cell_type": "markdown",
   "metadata": {},
   "source": [
    "#  Modified Two Streams Instability\n",
    "\n",
    "The dispertion relation of the Modified Two Streams Instability (MTSI) is rather simple, as no Fedevaa function is used.\n",
    "\n",
    "However, there is no Analytic solution, yet."
   ]
  },
  {
   "cell_type": "markdown",
   "metadata": {},
   "source": [
    "# Compute"
   ]
  },
  {
   "cell_type": "code",
   "execution_count": 90,
   "metadata": {},
   "outputs": [
    {
     "name": "stdout",
     "output_type": "stream",
     "text": [
      "kz = 0.0045\n"
     ]
    }
   ],
   "source": [
    "#calculate kz\n",
    "\n",
    "kx = 0.0\n",
    "# kz = 0.005\n",
    "prt=PlasmaParameters(plasmaDensity=5e16/u.m**3,\n",
    "                     electronTemperature=10*u.eV,\n",
    "                     magneticField=0.02*u.T,\n",
    "                     electricField=1e4*u.V/u.m,\n",
    "                     ionTemperature=0.5*u.eV)\n",
    "\n",
    "Lr = 0.0128*u.m\n",
    "kz = 2*np.pi*prt.Debye_length/Lr\n",
    "kz = 0.0045\n",
    "print(\"kz =\",kz)"
   ]
  },
  {
   "cell_type": "code",
   "execution_count": 91,
   "metadata": {},
   "outputs": [],
   "source": [
    "plasmaEps = partial(eps_MTSI, prt=prt) #assign to the function eps_MTSI the value of prt from now on\n",
    "\n",
    "# we still use the IAW as a first guess\n",
    "# wrfunct = lambda k: analytic_IAW(k, ti=prt.ionTemperature/ prt.electronTemperature)\n",
    "\n",
    "# different first guess\n",
    "# USE ONLY WITH kymin=0.01, kymax=2, Nkys=200\n",
    "wrfunct = lambda k: first_guess(k)\n",
    "\n",
    "kysref1, xsref1 = solvekys(plasmaEps, kx=kx, kz=kz, kymin=0.01, kymax=2,\n",
    "                         parall=False, wrfunct=wrfunct,Nkys=200)\n"
   ]
  },
  {
   "cell_type": "code",
   "execution_count": 98,
   "metadata": {},
   "outputs": [
    {
     "data": {
      "image/png": "[encoded data removed]",
      "text/plain": [
       "<Figure size 432x360 with 1 Axes>"
      ]
     },
     "metadata": {
      "needs_background": "light"
     },
     "output_type": "display_data"
    }
   ],
   "source": [
    "\n",
    "# plot\n",
    "fig = plt.figure(figsize=(6,5))\n",
    "# plt.plot(kysref, xsref[:,0], \"b\", label=\"$\\omega_r$ solver old\")\n",
    "# plt.plot(kysref, xsref[:,1], \"red\", label=\"$\\gamma$   solver old\")\n",
    "plt.plot(kysref1, xsref1[:,0], \"green\", label=\"$\\omega_r$ solver\")\n",
    "plt.plot(kysref1, xsref1[:,1], \"magenta\", label=\"$\\gamma$   solver\")\n",
    "\n",
    "# plt.plot(kysref, prt.driftSpeed/prt.BohmSpeed* np.sqrt(me/mi)*np.sqrt(np.pi/8)*kysref/(1 + kysref**2)**(3/2), \"r--\", label=\"$\\gamma$ IAW  Analytic\")\n",
    "# plt.plot(kysref, analytic_IAW(kysref, ti=prt.ionTemperature/ prt.electronTemperature), \"b--\", label=\"$\\omega_r$ IAW Analytic\")\n",
    "\n",
    "\n",
    "plt.legend()\n",
    "plt.xlabel(\"Azimuthal wave number $k_{\\\\theta} \\\\lambda_{De}$\")\n",
    "plt.ylabel(\"Pulsations  $\\\\gamma/\\\\omega_{pi}$ and $ \\\\omega_r/\\\\omega_{pi} $\")\n",
    "#plt.xlim(left=0)\n",
    "#plt.ylim(bottom=0)\n",
    "\n",
    "plt.tight_layout()\n",
    "\n",
    "for i in range(10):\n",
    "    plt.plot(kysref1[i*20],wrfunct(kysref1[i*20]).real,\"o\",color='blue')\n",
    "    plt.plot(kysref1[i*20],wrfunct(kysref1[i*20]).imag,\"v\",color='red')\n",
    "\n",
    "# for i in range(200):\n",
    "#     plt.plot(kysref1[i],wrfunct(kysref1[i]).real,\"o\",color='blue')\n",
    "#     plt.plot(kysref1[i],wrfunct(kysref1[i]).imag,\"v\",color='red')\n",
    "\n",
    "# plt.plot(kysref1,wrfunct(kysref1))"
   ]
  },
  {
   "cell_type": "code",
   "execution_count": 93,
   "metadata": {},
   "outputs": [],
   "source": [
    "# f = open(\"dispersion1.txt\",\"w+\")\n",
    "\n",
    "# f.write(\"kz: \"+ str(kz) + \"\\r\\n\")\n",
    "# f.write(\"plasma density: \" + str(prt.plasmaDensity)+\"\\r\\n\")\n",
    "# f.write(\"Te: \" + str(prt.electronTemperature)+\"\\r\\n\")\n",
    "# f.write(\"E field: \" + str(prt.electricField)+\"\\r\\n\"+ \"\\r\\n\")\n",
    "\n",
    "\n",
    "# f.write(\"ky: \")\n",
    "# for i in range(len(kysref1)):\n",
    "#     f.write(str(kysref1[i]) + \",  \")\n",
    "# f.write(\"\\r\\n\" + \"\\n\" + \"omega_r: \")\n",
    "# for i in range(len(kysref1)):\n",
    "#     f.write(str(xsref1[i,0]) + \",  \")\n",
    "# f.write(\"\\r\\n\" + \"\\n\" + \"gamma: \" )\n",
    "# for i in range(len(kysref1)):\n",
    "#     f.write(str(xsref1[i,1]) + \",  \")\n",
    "# f.write(\"\\r\\n\" )"
   ]
  },
  {
   "cell_type": "code",
   "execution_count": null,
   "metadata": {},
   "outputs": [],
   "source": []
  },
  {
   "cell_type": "code",
   "execution_count": null,
   "metadata": {},
   "outputs": [],
   "source": []
  },
  {
   "cell_type": "code",
   "execution_count": null,
   "metadata": {},
   "outputs": [],
   "source": []
  }
 ],
 "metadata": {
  "kernelspec": {
   "display_name": "Python 3",
   "language": "python",
   "name": "python3"
  },
  "language_info": {
   "codemirror_mode": {
    "name": "ipython",
    "version": 3
   },
   "file_extension": ".py",
   "mimetype": "text/x-python",
   "name": "python",
   "nbconvert_exporter": "python",
   "pygments_lexer": "ipython3",
   "version": "3.7.6"
  }
 },
 "nbformat": 4,
 "nbformat_minor": 4
}
