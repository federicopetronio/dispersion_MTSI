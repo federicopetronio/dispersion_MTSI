{
 "cells": [
  {
   "cell_type": "code",
   "execution_count": 77,
   "metadata": {},
   "outputs": [
    {
     "name": "stdout",
     "output_type": "stream",
     "text": [
      "12.755102040816332\n",
      "kz_preopen : 0.0129\n",
      "kz_open : 0.0129\n"
     ]
    },
    {
     "data": {
      "text/plain": [
       "(0.0, 2.0)"
      ]
     },
     "execution_count": 77,
     "metadata": {},
     "output_type": "execute_result"
    },
    {
     "data": {
      "image/png": "[encoded data removed]",
      "text/plain": [
       "<Figure size 720x360 with 1 Axes>"
      ]
     },
     "metadata": {
      "needs_background": "light"
     },
     "output_type": "display_data"
    }
   ],
   "source": [
    "import numpy as np\n",
    "import matplotlib.pyplot as plt\n",
    "from util.tools_dispersion import open_disp_file,find_max_gamma,verification_dispersion,precedent_openfile\n",
    "import os\n",
    "\n",
    "\n",
    "# %constants\n",
    "m_e=9e-31 \n",
    "m_p=1.67e-27 \n",
    "eps0=8.82e-12 \n",
    "e=1.6e-19 \n",
    "\n",
    "# %inputs\n",
    "M=131*m_p # %Xenon mass\n",
    "n_0=5e16 \n",
    "E_0=1e4 \n",
    "B_0=200e-4 \n",
    "u_0=E_0/B_0 \n",
    "T_e=10 # % In volts\n",
    "\n",
    "# %Physics parameters\n",
    "lambda_D=(eps0*e*T_e/(n_0*e**2))**0.5\n",
    "u_B=(e*T_e/M)**0.5\n",
    "omega_pi=(n_0*e**2/(M*eps0))**0.5\n",
    "omega_ce=e*B_0/m_e \n",
    "\n",
    "# %Normalized parameters\n",
    "u_norm=u_0/u_B \n",
    "k_r=0.0129\n",
    "\n",
    "A=(M/m_e)*k_r**2/u_norm**2 \n",
    "b=(M/m_e)*omega_pi**2/omega_ce**2 \n",
    "k_theta=np.linspace(0.01,0.3,1000)\n",
    "\n",
    "\n",
    "# %Solution and plot\n",
    "omega = np.zeros(len(k_theta),dtype=complex)\n",
    "\n",
    "print(b)\n",
    "\n",
    "for ind in range(len(k_theta)):\n",
    "    omega[ind] = (np.complex(1/(1+b-A/k_theta[ind]**4)))**0.5\n",
    "\n",
    "    \n",
    "    \n",
    "plt.figure(figsize=((10,5)))\n",
    "\n",
    "\n",
    "sol = np.sqrt(1/(1+(M/m_e*omega_pi**2/omega_ce**2)))\n",
    "plt.axhline(y=sol, linestyle=(3,(3,2)),color=\"black\") \n",
    "\n",
    "kymin = 0.001\n",
    "kymax = 0.22\n",
    "pas = 0.0002383025027203481\n",
    "kappa = np.arange(0.001,0.2200,0.0002383025027203481)\n",
    "Nkys = len(kappa)\n",
    "\n",
    "kappa = np.arange(kymin,kymax,pas)\n",
    "\n",
    "current = os.getcwd()\n",
    "path = current + \"/dispersion_data/change_n/{:}/\".format(5e16)\n",
    "omegax, gammax, kz = precedent_openfile(k_r,Nkys=Nkys, path=path)\n",
    "\n",
    "plt.plot(kappa,omegax,c='tab:blue')\n",
    "plt.plot(kappa,gammax,c='tab:red') \n",
    "\n",
    "plt.plot(k_theta,np.imag(omega),\"--\",c='r')\n",
    "plt.plot(k_theta,np.real(omega),\"--\",c='b') \n",
    "# plt.axvline(x=(A/(b+1))**0.25, linestyle=(3,(3,2)),color=\"black\") \n",
    "plt.plot(k_theta, k_theta*u_norm)\n",
    "plt.ylim(0,2)"
   ]
  },
  {
   "cell_type": "code",
   "execution_count": 47,
   "metadata": {},
   "outputs": [
    {
     "name": "stdout",
     "output_type": "stream",
     "text": [
      "2.666666666666667\n"
     ]
    }
   ],
   "source": [
    "from util.parameters import PlasmaParameters\n",
    "from astropy import units as u\n",
    "prt_base=PlasmaParameters(plasmaDensity=5e16*u.m**(-3),\n",
    "                    electronTemperature=10*u.eV,\n",
    "                    magneticField=0.02*u.T,\n",
    "                    electricField=2e4*u.V/u.m,\n",
    "                    ionTemperature=0.5*u.eV)\n",
    "# print(prt_base.ionPlasmaFrequency,(5e16*(1.6e-19)**2/(M*eps0))**0.5)\n",
    "\n",
    "# print((M/m_e)**0.5)\n",
    "# print(u_0,u_B,u_0/u_B  )\n",
    "print((M/m_e)**0.5/u_norm)"
   ]
  },
  {
   "cell_type": "code",
   "execution_count": null,
   "metadata": {},
   "outputs": [],
   "source": []
  }
 ],
 "metadata": {
  "kernelspec": {
   "display_name": "Python 3",
   "language": "python",
   "name": "python3"
  },
  "language_info": {
   "codemirror_mode": {
    "name": "ipython",
    "version": 3
   },
   "file_extension": ".py",
   "mimetype": "text/x-python",
   "name": "python",
   "nbconvert_exporter": "python",
   "pygments_lexer": "ipython3",
   "version": "3.7.8"
  }
 },
 "nbformat": 4,
 "nbformat_minor": 4
}
